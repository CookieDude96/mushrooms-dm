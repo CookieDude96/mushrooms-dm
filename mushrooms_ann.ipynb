{
 "cells": [
  {
   "cell_type": "code",
   "execution_count": 104,
   "metadata": {},
   "outputs": [],
   "source": [
    "# Import necessary libraries\n",
    "import pandas as pd\n",
    "import numpy as np\n",
    "import matplotlib.pyplot as plt\n",
    "import seaborn as sns\n",
    "from sklearn.preprocessing import LabelEncoder\n",
    "from sklearn.model_selection import train_test_split\n",
    "from sklearn.metrics import (\n",
    "    confusion_matrix,\n",
    "    classification_report,\n",
    "    f1_score,\n",
    "    accuracy_score,\n",
    ")\n",
    "import keras\n",
    "import tensorflow as tf\n",
    "from keras.models import Sequential\n",
    "from keras.layers import Dense"
   ]
  },
  {
   "cell_type": "code",
   "execution_count": 105,
   "metadata": {},
   "outputs": [
    {
     "name": "stdout",
     "output_type": "stream",
     "text": [
      "  class cap-shape cap-surface cap-color bruises odor gill-attachment  \\\n",
      "0     p         x           s         n       t    p               f   \n",
      "1     e         x           s         y       t    a               f   \n",
      "2     e         b           s         w       t    l               f   \n",
      "3     p         x           y         w       t    p               f   \n",
      "4     e         x           s         g       f    n               f   \n",
      "\n",
      "  gill-spacing gill-size gill-color  ... stalk-surface-below-ring  \\\n",
      "0            c         n          k  ...                        s   \n",
      "1            c         b          k  ...                        s   \n",
      "2            c         b          n  ...                        s   \n",
      "3            c         n          n  ...                        s   \n",
      "4            w         b          k  ...                        s   \n",
      "\n",
      "  stalk-color-above-ring stalk-color-below-ring veil-type veil-color  \\\n",
      "0                      w                      w         p          w   \n",
      "1                      w                      w         p          w   \n",
      "2                      w                      w         p          w   \n",
      "3                      w                      w         p          w   \n",
      "4                      w                      w         p          w   \n",
      "\n",
      "  ring-number ring-type spore-print-color population habitat  \n",
      "0           o         p                 k          s       u  \n",
      "1           o         p                 n          n       g  \n",
      "2           o         p                 n          n       m  \n",
      "3           o         p                 k          s       u  \n",
      "4           o         e                 n          a       g  \n",
      "\n",
      "[5 rows x 23 columns]\n"
     ]
    }
   ],
   "source": [
    "# Load the dataset\n",
    "file_path = \"mushrooms.csv\"\n",
    "df = pd.read_csv(file_path)\n",
    "\n",
    "# Display the first few rows of the dataset\n",
    "print(df.head())"
   ]
  },
  {
   "cell_type": "code",
   "execution_count": 106,
   "metadata": {},
   "outputs": [],
   "source": [
    "# Prepare the data for training and testing\n",
    "# Target is 'class' column.\n",
    "X = df.drop([\"class\", \"veil-type\"], axis=1)\n",
    "y = df[\"class\"]\n",
    "\n",
    "# Perform one-hot encoding on categorical features\n",
    "X = pd.get_dummies(X)\n",
    "\n",
    "# Encode the target labels ('e' for edible and 'p' for poisonous)\n",
    "y = LabelEncoder().fit_transform(y)"
   ]
  },
  {
   "cell_type": "code",
   "execution_count": 107,
   "metadata": {},
   "outputs": [
    {
     "name": "stdout",
     "output_type": "stream",
     "text": [
      "train and test sample size (81, 116) (8043, 116)\n"
     ]
    }
   ],
   "source": [
    "# Split the data into training and test sets\n",
    "X_train, X_test, y_train, y_test = train_test_split(\n",
    "    X, y, test_size=0.99, random_state=42\n",
    ")\n",
    "\n",
    "# Print the sizes of the training and test sets\n",
    "print(\"train and test sample size\", X_train.shape, X_test.shape)"
   ]
  },
  {
   "cell_type": "code",
   "execution_count": 108,
   "metadata": {},
   "outputs": [],
   "source": [
    "# Create a Sequential model for the Artificial Neural Network (ANN)\n",
    "classifier = Sequential()\n"
   ]
  },
  {
   "cell_type": "code",
   "execution_count": 109,
   "metadata": {},
   "outputs": [],
   "source": [
    "# Add input layer and hidden layers to the model\n",
    "classifier.add(\n",
    "    Dense(\n",
    "        8, kernel_initializer=\"uniform\", activation=\"relu\", input_dim=X_train.shape[1]\n",
    "    )\n",
    ")\n",
    "classifier.add(Dense(6, kernel_initializer=\"uniform\", activation=\"relu\"))\n",
    "classifier.add(Dense(5, kernel_initializer=\"uniform\", activation=\"relu\"))\n",
    "classifier.add(Dense(4, kernel_initializer=\"uniform\", activation=\"relu\"))\n",
    "classifier.add(Dense(1, kernel_initializer=\"uniform\", activation=\"sigmoid\"))\n",
    "\n",
    "# Compile the ANN\n",
    "classifier.compile(optimizer=\"adam\", loss=\"binary_crossentropy\", metrics=[\"accuracy\"])\n"
   ]
  },
  {
   "cell_type": "code",
   "execution_count": 110,
   "metadata": {},
   "outputs": [
    {
     "name": "stdout",
     "output_type": "stream",
     "text": [
      "Epoch 1/100\n",
      "9/9 [==============================] - 0s 952us/step - loss: 0.6931 - accuracy: 0.5926\n",
      "Epoch 2/100\n",
      "9/9 [==============================] - 0s 745us/step - loss: 0.6929 - accuracy: 0.5926\n",
      "Epoch 3/100\n",
      "9/9 [==============================] - 0s 874us/step - loss: 0.6926 - accuracy: 0.5926\n",
      "Epoch 4/100\n",
      "9/9 [==============================] - 0s 748us/step - loss: 0.6922 - accuracy: 0.5926\n",
      "Epoch 5/100\n",
      "9/9 [==============================] - 0s 802us/step - loss: 0.6917 - accuracy: 0.5926\n",
      "Epoch 6/100\n",
      "9/9 [==============================] - 0s 837us/step - loss: 0.6915 - accuracy: 0.5926\n",
      "Epoch 7/100\n",
      "9/9 [==============================] - 0s 717us/step - loss: 0.6911 - accuracy: 0.5926\n",
      "Epoch 8/100\n",
      "9/9 [==============================] - 0s 853us/step - loss: 0.6909 - accuracy: 0.5926\n",
      "Epoch 9/100\n",
      "9/9 [==============================] - 0s 895us/step - loss: 0.6907 - accuracy: 0.5926\n",
      "Epoch 10/100\n",
      "9/9 [==============================] - 0s 870us/step - loss: 0.6904 - accuracy: 0.5926\n",
      "Epoch 11/100\n",
      "9/9 [==============================] - 0s 811us/step - loss: 0.6898 - accuracy: 0.5926\n",
      "Epoch 12/100\n",
      "9/9 [==============================] - 0s 791us/step - loss: 0.6885 - accuracy: 0.5926\n",
      "Epoch 13/100\n",
      "9/9 [==============================] - 0s 776us/step - loss: 0.6852 - accuracy: 0.5926\n",
      "Epoch 14/100\n",
      "9/9 [==============================] - 0s 752us/step - loss: 0.6789 - accuracy: 0.5926\n",
      "Epoch 15/100\n",
      "9/9 [==============================] - 0s 852us/step - loss: 0.6701 - accuracy: 0.5926\n",
      "Epoch 16/100\n",
      "9/9 [==============================] - 0s 694us/step - loss: 0.6520 - accuracy: 0.5926\n",
      "Epoch 17/100\n",
      "9/9 [==============================] - 0s 715us/step - loss: 0.6254 - accuracy: 0.5926\n",
      "Epoch 18/100\n",
      "9/9 [==============================] - 0s 722us/step - loss: 0.5910 - accuracy: 0.5926\n",
      "Epoch 19/100\n",
      "9/9 [==============================] - 0s 688us/step - loss: 0.5472 - accuracy: 0.5926\n",
      "Epoch 20/100\n",
      "9/9 [==============================] - 0s 705us/step - loss: 0.5090 - accuracy: 0.5926\n",
      "Epoch 21/100\n",
      "9/9 [==============================] - 0s 636us/step - loss: 0.4777 - accuracy: 0.5926\n",
      "Epoch 22/100\n",
      "9/9 [==============================] - 0s 723us/step - loss: 0.4552 - accuracy: 0.5926\n",
      "Epoch 23/100\n",
      "9/9 [==============================] - 0s 726us/step - loss: 0.4378 - accuracy: 0.5926\n",
      "Epoch 24/100\n",
      "9/9 [==============================] - 0s 711us/step - loss: 0.4227 - accuracy: 0.5926\n",
      "Epoch 25/100\n",
      "9/9 [==============================] - 0s 682us/step - loss: 0.4057 - accuracy: 0.5926\n",
      "Epoch 26/100\n",
      "9/9 [==============================] - 0s 692us/step - loss: 0.3914 - accuracy: 0.5926\n",
      "Epoch 27/100\n",
      "9/9 [==============================] - 0s 699us/step - loss: 0.3772 - accuracy: 0.5926\n",
      "Epoch 28/100\n",
      "9/9 [==============================] - 0s 708us/step - loss: 0.3651 - accuracy: 0.5926\n",
      "Epoch 29/100\n",
      "9/9 [==============================] - 0s 710us/step - loss: 0.3544 - accuracy: 0.8148\n",
      "Epoch 30/100\n",
      "9/9 [==============================] - 0s 710us/step - loss: 0.3447 - accuracy: 0.9506\n",
      "Epoch 31/100\n",
      "9/9 [==============================] - 0s 721us/step - loss: 0.3365 - accuracy: 0.9506\n",
      "Epoch 32/100\n",
      "9/9 [==============================] - 0s 660us/step - loss: 0.3291 - accuracy: 0.9506\n",
      "Epoch 33/100\n",
      "9/9 [==============================] - 0s 724us/step - loss: 0.3202 - accuracy: 0.9506\n",
      "Epoch 34/100\n",
      "9/9 [==============================] - 0s 694us/step - loss: 0.3136 - accuracy: 0.9506\n",
      "Epoch 35/100\n",
      "9/9 [==============================] - 0s 733us/step - loss: 0.3056 - accuracy: 0.9630\n",
      "Epoch 36/100\n",
      "9/9 [==============================] - 0s 698us/step - loss: 0.2998 - accuracy: 0.9630\n",
      "Epoch 37/100\n",
      "9/9 [==============================] - 0s 676us/step - loss: 0.2954 - accuracy: 0.9877\n",
      "Epoch 38/100\n",
      "9/9 [==============================] - 0s 749us/step - loss: 0.2904 - accuracy: 0.9877\n",
      "Epoch 39/100\n",
      "9/9 [==============================] - 0s 745us/step - loss: 0.2858 - accuracy: 0.9877\n",
      "Epoch 40/100\n",
      "9/9 [==============================] - 0s 691us/step - loss: 0.2819 - accuracy: 0.9877\n",
      "Epoch 41/100\n",
      "9/9 [==============================] - 0s 707us/step - loss: 0.2783 - accuracy: 0.9877\n",
      "Epoch 42/100\n",
      "9/9 [==============================] - 0s 709us/step - loss: 0.2751 - accuracy: 0.9877\n",
      "Epoch 43/100\n",
      "9/9 [==============================] - 0s 631us/step - loss: 0.2720 - accuracy: 0.9877\n",
      "Epoch 44/100\n",
      "9/9 [==============================] - 0s 700us/step - loss: 0.2675 - accuracy: 1.0000\n",
      "Epoch 45/100\n",
      "9/9 [==============================] - 0s 715us/step - loss: 0.2674 - accuracy: 1.0000\n",
      "Epoch 46/100\n",
      "9/9 [==============================] - 0s 702us/step - loss: 0.2645 - accuracy: 1.0000\n",
      "Epoch 47/100\n",
      "9/9 [==============================] - 0s 702us/step - loss: 0.2615 - accuracy: 1.0000\n",
      "Epoch 48/100\n",
      "9/9 [==============================] - 0s 720us/step - loss: 0.2587 - accuracy: 1.0000\n",
      "Epoch 49/100\n",
      "9/9 [==============================] - 0s 741us/step - loss: 0.2564 - accuracy: 1.0000\n",
      "Epoch 50/100\n",
      "9/9 [==============================] - 0s 705us/step - loss: 0.2542 - accuracy: 1.0000\n",
      "Epoch 51/100\n",
      "9/9 [==============================] - 0s 705us/step - loss: 0.2524 - accuracy: 1.0000\n",
      "Epoch 52/100\n",
      "9/9 [==============================] - 0s 691us/step - loss: 0.2510 - accuracy: 1.0000\n",
      "Epoch 53/100\n",
      "9/9 [==============================] - 0s 703us/step - loss: 0.2492 - accuracy: 1.0000\n",
      "Epoch 54/100\n",
      "9/9 [==============================] - 0s 669us/step - loss: 0.2476 - accuracy: 1.0000\n",
      "Epoch 55/100\n",
      "9/9 [==============================] - 0s 725us/step - loss: 0.2460 - accuracy: 1.0000\n",
      "Epoch 56/100\n",
      "9/9 [==============================] - 0s 680us/step - loss: 0.2444 - accuracy: 1.0000\n",
      "Epoch 57/100\n",
      "9/9 [==============================] - 0s 719us/step - loss: 0.2429 - accuracy: 1.0000\n",
      "Epoch 58/100\n",
      "9/9 [==============================] - 0s 702us/step - loss: 0.2414 - accuracy: 1.0000\n",
      "Epoch 59/100\n",
      "9/9 [==============================] - 0s 756us/step - loss: 0.2399 - accuracy: 1.0000\n",
      "Epoch 60/100\n",
      "9/9 [==============================] - 0s 674us/step - loss: 0.2382 - accuracy: 1.0000\n",
      "Epoch 61/100\n",
      "9/9 [==============================] - 0s 723us/step - loss: 0.2368 - accuracy: 1.0000\n",
      "Epoch 62/100\n",
      "9/9 [==============================] - 0s 711us/step - loss: 0.2354 - accuracy: 1.0000\n",
      "Epoch 63/100\n",
      "9/9 [==============================] - 0s 704us/step - loss: 0.2341 - accuracy: 1.0000\n",
      "Epoch 64/100\n",
      "9/9 [==============================] - 0s 685us/step - loss: 0.2328 - accuracy: 1.0000\n",
      "Epoch 65/100\n",
      "9/9 [==============================] - 0s 717us/step - loss: 0.2314 - accuracy: 1.0000\n",
      "Epoch 66/100\n",
      "9/9 [==============================] - 0s 662us/step - loss: 0.2300 - accuracy: 1.0000\n",
      "Epoch 67/100\n",
      "9/9 [==============================] - 0s 676us/step - loss: 0.2286 - accuracy: 1.0000\n",
      "Epoch 68/100\n",
      "9/9 [==============================] - 0s 698us/step - loss: 0.2272 - accuracy: 1.0000\n",
      "Epoch 69/100\n",
      "9/9 [==============================] - 0s 727us/step - loss: 0.2259 - accuracy: 1.0000\n",
      "Epoch 70/100\n",
      "9/9 [==============================] - 0s 661us/step - loss: 0.2248 - accuracy: 1.0000\n",
      "Epoch 71/100\n",
      "9/9 [==============================] - 0s 631us/step - loss: 0.2235 - accuracy: 1.0000\n",
      "Epoch 72/100\n",
      "9/9 [==============================] - 0s 697us/step - loss: 0.2222 - accuracy: 1.0000\n",
      "Epoch 73/100\n",
      "9/9 [==============================] - 0s 690us/step - loss: 0.2210 - accuracy: 1.0000\n",
      "Epoch 74/100\n",
      "9/9 [==============================] - 0s 667us/step - loss: 0.2197 - accuracy: 1.0000\n",
      "Epoch 75/100\n",
      "9/9 [==============================] - 0s 722us/step - loss: 0.2185 - accuracy: 1.0000\n",
      "Epoch 76/100\n",
      "9/9 [==============================] - 0s 747us/step - loss: 0.2172 - accuracy: 1.0000\n",
      "Epoch 77/100\n",
      "9/9 [==============================] - 0s 746us/step - loss: 0.2160 - accuracy: 1.0000\n",
      "Epoch 78/100\n",
      "9/9 [==============================] - 0s 760us/step - loss: 0.2148 - accuracy: 1.0000\n",
      "Epoch 79/100\n",
      "9/9 [==============================] - 0s 706us/step - loss: 0.2136 - accuracy: 1.0000\n",
      "Epoch 80/100\n",
      "9/9 [==============================] - 0s 713us/step - loss: 0.2124 - accuracy: 1.0000\n",
      "Epoch 81/100\n",
      "9/9 [==============================] - 0s 719us/step - loss: 0.2113 - accuracy: 1.0000\n",
      "Epoch 82/100\n",
      "9/9 [==============================] - 0s 717us/step - loss: 0.2101 - accuracy: 1.0000\n",
      "Epoch 83/100\n",
      "9/9 [==============================] - 0s 713us/step - loss: 0.2090 - accuracy: 1.0000\n",
      "Epoch 84/100\n",
      "9/9 [==============================] - 0s 705us/step - loss: 0.2078 - accuracy: 1.0000\n",
      "Epoch 85/100\n",
      "9/9 [==============================] - 0s 675us/step - loss: 0.2067 - accuracy: 1.0000\n",
      "Epoch 86/100\n",
      "9/9 [==============================] - 0s 737us/step - loss: 0.2055 - accuracy: 1.0000\n",
      "Epoch 87/100\n",
      "9/9 [==============================] - 0s 713us/step - loss: 0.2043 - accuracy: 1.0000\n",
      "Epoch 88/100\n",
      "9/9 [==============================] - 0s 713us/step - loss: 0.2032 - accuracy: 1.0000\n",
      "Epoch 89/100\n",
      "9/9 [==============================] - 0s 722us/step - loss: 0.2023 - accuracy: 1.0000\n",
      "Epoch 90/100\n",
      "9/9 [==============================] - 0s 679us/step - loss: 0.2012 - accuracy: 1.0000\n",
      "Epoch 91/100\n",
      "9/9 [==============================] - 0s 652us/step - loss: 0.2002 - accuracy: 1.0000\n",
      "Epoch 92/100\n",
      "9/9 [==============================] - 0s 714us/step - loss: 0.1991 - accuracy: 1.0000\n",
      "Epoch 93/100\n",
      "9/9 [==============================] - 0s 667us/step - loss: 0.1981 - accuracy: 1.0000\n",
      "Epoch 94/100\n",
      "9/9 [==============================] - 0s 669us/step - loss: 0.1971 - accuracy: 1.0000\n",
      "Epoch 95/100\n",
      "9/9 [==============================] - 0s 697us/step - loss: 0.1961 - accuracy: 1.0000\n",
      "Epoch 96/100\n",
      "9/9 [==============================] - 0s 690us/step - loss: 0.1951 - accuracy: 1.0000\n",
      "Epoch 97/100\n",
      "9/9 [==============================] - 0s 677us/step - loss: 0.1939 - accuracy: 1.0000\n",
      "Epoch 98/100\n",
      "9/9 [==============================] - 0s 705us/step - loss: 0.1929 - accuracy: 1.0000\n",
      "Epoch 99/100\n",
      "9/9 [==============================] - 0s 2ms/step - loss: 0.1917 - accuracy: 1.0000\n",
      "Epoch 100/100\n",
      "9/9 [==============================] - 0s 866us/step - loss: 0.1906 - accuracy: 1.0000\n"
     ]
    },
    {
     "data": {
      "text/plain": [
       "<keras.callbacks.History at 0x298085270>"
      ]
     },
     "execution_count": 110,
     "metadata": {},
     "output_type": "execute_result"
    }
   ],
   "source": [
    "# Train the ANN\n",
    "classifier.fit(X_train, y_train, batch_size=10, epochs=100)"
   ]
  },
  {
   "cell_type": "code",
   "execution_count": 111,
   "metadata": {},
   "outputs": [
    {
     "name": "stdout",
     "output_type": "stream",
     "text": [
      "252/252 [==============================] - 0s 348us/step\n"
     ]
    }
   ],
   "source": [
    "# Make predictions using the trained ANN\n",
    "y_pred = classifier.predict(X_test)\n",
    "y_pred = y_pred > 0.5"
   ]
  },
  {
   "cell_type": "code",
   "execution_count": 112,
   "metadata": {},
   "outputs": [
    {
     "name": "stdout",
     "output_type": "stream",
     "text": [
      "[[4117   43]\n",
      " [ 438 3445]]\n"
     ]
    }
   ],
   "source": [
    "# Create a confusion matrix\n",
    "cm = confusion_matrix(y_test, y_pred)\n",
    "print(cm)"
   ]
  },
  {
   "cell_type": "code",
   "execution_count": 113,
   "metadata": {},
   "outputs": [
    {
     "data": {
      "image/png": "[encoded data removed]",
      "text/plain": [
       "<Figure size 1000x1000 with 2 Axes>"
      ]
     },
     "metadata": {},
     "output_type": "display_data"
    }
   ],
   "source": [
    "# Transform the confusion matrix to a DataFrame for easier plotting\n",
    "cm_df = pd.DataFrame(cm, index=[\"e\", \"p\"], columns=[\"e\", \"p\"])\n",
    "\n",
    "# Plot the confusion matrix as a heatmap\n",
    "f, ax = plt.subplots(figsize=(10, 10))\n",
    "sns.heatmap(cm_df, annot=True, linewidths=0.5, linecolor=\"red\", fmt=\".0f\", ax=ax)\n",
    "plt.title(f\"ANN\\nAccuracy: {accuracy_score(y_test, y_pred):.5f}\")\n",
    "plt.ylabel(\"True label\")\n",
    "plt.xlabel(\"Predicted label\")\n",
    "plt.show()"
   ]
  },
  {
   "cell_type": "code",
   "execution_count": 114,
   "metadata": {},
   "outputs": [
    {
     "name": "stdout",
     "output_type": "stream",
     "text": [
      "              precision    recall  f1-score   support\n",
      "\n",
      "           0       0.90      0.99      0.94      4160\n",
      "           1       0.99      0.89      0.93      3883\n",
      "\n",
      "    accuracy                           0.94      8043\n",
      "   macro avg       0.95      0.94      0.94      8043\n",
      "weighted avg       0.94      0.94      0.94      8043\n",
      "\n",
      "F1 Score: 0.9347442680776014\n"
     ]
    }
   ],
   "source": [
    "# Print the classification report\n",
    "print(classification_report(y_test, y_pred))\n",
    "\n",
    "# Calculate the F1 score and store it in a variable\n",
    "f1 = f1_score(y_test, y_pred)\n",
    "\n",
    "# Print the F1 score\n",
    "print(\"F1 Score:\", f1)"
   ]
  }
 ],
 "metadata": {
  "kernelspec": {
   "display_name": "base",
   "language": "python",
   "name": "python3"
  },
  "language_info": {
   "codemirror_mode": {
    "name": "ipython",
    "version": 3
   },
   "file_extension": ".py",
   "mimetype": "text/x-python",
   "name": "python",
   "nbconvert_exporter": "python",
   "pygments_lexer": "ipython3",
   "version": "3.10.10"
  },
  "orig_nbformat": 4
 },
 "nbformat": 4,
 "nbformat_minor": 2
}
