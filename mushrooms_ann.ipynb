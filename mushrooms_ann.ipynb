{
 "cells": [
  {
   "cell_type": "code",
   "execution_count": 116,
   "metadata": {},
   "outputs": [],
   "source": [
    "import pandas as pd\n",
    "import numpy as np\n",
    "import matplotlib.pyplot as plt\n",
    "import seaborn as sns\n",
    "\n",
    "from sklearn.preprocessing import LabelEncoder\n",
    "from sklearn.model_selection import train_test_split\n",
    "from sklearn.metrics import confusion_matrix\n",
    "from sklearn.metrics import classification_report\n",
    "from sklearn.metrics import f1_score\n",
    "from sklearn.metrics import accuracy_score"
   ]
  },
  {
   "cell_type": "code",
   "execution_count": 117,
   "metadata": {},
   "outputs": [
    {
     "name": "stdout",
     "output_type": "stream",
     "text": [
      "  class cap-shape cap-surface cap-color bruises odor gill-attachment  \\\n",
      "0     p         x           s         n       t    p               f   \n",
      "1     e         x           s         y       t    a               f   \n",
      "2     e         b           s         w       t    l               f   \n",
      "3     p         x           y         w       t    p               f   \n",
      "4     e         x           s         g       f    n               f   \n",
      "\n",
      "  gill-spacing gill-size gill-color  ... stalk-surface-below-ring  \\\n",
      "0            c         n          k  ...                        s   \n",
      "1            c         b          k  ...                        s   \n",
      "2            c         b          n  ...                        s   \n",
      "3            c         n          n  ...                        s   \n",
      "4            w         b          k  ...                        s   \n",
      "\n",
      "  stalk-color-above-ring stalk-color-below-ring veil-type veil-color  \\\n",
      "0                      w                      w         p          w   \n",
      "1                      w                      w         p          w   \n",
      "2                      w                      w         p          w   \n",
      "3                      w                      w         p          w   \n",
      "4                      w                      w         p          w   \n",
      "\n",
      "  ring-number ring-type spore-print-color population habitat  \n",
      "0           o         p                 k          s       u  \n",
      "1           o         p                 n          n       g  \n",
      "2           o         p                 n          n       m  \n",
      "3           o         p                 k          s       u  \n",
      "4           o         e                 n          a       g  \n",
      "\n",
      "[5 rows x 23 columns]\n"
     ]
    }
   ],
   "source": [
    "# To import the dataset:\n",
    "file_path = \"mushrooms.csv\"\n",
    "\n",
    "# Read the CSV file into a DataFrame\n",
    "df = pd.read_csv(file_path)\n",
    "\n",
    "# Display the first few rows of the DataFrame\n",
    "print(df.head())"
   ]
  },
  {
   "cell_type": "code",
   "execution_count": 118,
   "metadata": {},
   "outputs": [],
   "source": [
    "# Preparing data for training and test\n",
    "# Target is 'class' column.\n",
    "X = df.drop([\"class\"], axis=1)\n",
    "y = df[\"class\"]\n",
    "\n",
    "X = pd.get_dummies(X)\n",
    "X.head()\n",
    "\n",
    "# Encode the target labels ('e' for edible and 'p' for poisonous)\n",
    "y = LabelEncoder().fit_transform(y)"
   ]
  },
  {
   "cell_type": "code",
   "execution_count": 119,
   "metadata": {},
   "outputs": [
    {
     "name": "stdout",
     "output_type": "stream",
     "text": [
      "\n",
      "\n",
      "train and test sample size (81, 117) (8043, 117)\n"
     ]
    }
   ],
   "source": [
    "# Split data into separate training and test set\n",
    "X_train, X_test, y_train, y_test = train_test_split(\n",
    "    X, y, test_size=0.99, random_state=42\n",
    ")\n",
    "\n",
    "# Check the shape of X train and X test\n",
    "print(\"\\n\")\n",
    "print(\"train and test sample size\", X_train.shape, X_test.shape)"
   ]
  },
  {
   "cell_type": "code",
   "execution_count": 120,
   "metadata": {},
   "outputs": [],
   "source": [
    "# Artificial Neural Networks (ANN)\n",
    "import keras\n",
    "from keras.models import Sequential\n",
    "from keras.layers import Dense\n",
    "\n",
    "classifier = Sequential()"
   ]
  },
  {
   "cell_type": "code",
   "execution_count": 121,
   "metadata": {},
   "outputs": [],
   "source": [
    "classifier.add(\n",
    "    Dense(\n",
    "        8, kernel_initializer=\"uniform\", activation=\"relu\", input_dim=X_train.shape[1]\n",
    "    )\n",
    ")\n",
    "classifier.add(Dense(6, kernel_initializer=\"uniform\", activation=\"relu\"))\n",
    "classifier.add(Dense(5, kernel_initializer=\"uniform\", activation=\"relu\"))\n",
    "classifier.add(Dense(4, kernel_initializer=\"uniform\", activation=\"relu\"))\n",
    "classifier.add(Dense(1, kernel_initializer=\"uniform\", activation=\"sigmoid\"))\n",
    "\n",
    "classifier.compile(optimizer=\"adam\", loss=\"binary_crossentropy\", metrics=[\"accuracy\"])"
   ]
  },
  {
   "cell_type": "code",
   "execution_count": 122,
   "metadata": {},
   "outputs": [
    {
     "name": "stdout",
     "output_type": "stream",
     "text": [
      "Epoch 1/100\n",
      "9/9 [==============================] - 0s 835us/step - loss: 0.6928 - accuracy: 0.5926\n",
      "Epoch 2/100\n",
      "9/9 [==============================] - 0s 817us/step - loss: 0.6922 - accuracy: 0.5926\n",
      "Epoch 3/100\n",
      "9/9 [==============================] - 0s 712us/step - loss: 0.6916 - accuracy: 0.5926\n",
      "Epoch 4/100\n",
      "9/9 [==============================] - 0s 931us/step - loss: 0.6912 - accuracy: 0.5926\n",
      "Epoch 5/100\n",
      "9/9 [==============================] - 0s 846us/step - loss: 0.6908 - accuracy: 0.5926\n",
      "Epoch 6/100\n",
      "9/9 [==============================] - 0s 2ms/step - loss: 0.6905 - accuracy: 0.5926\n",
      "Epoch 7/100\n",
      "9/9 [==============================] - 0s 3ms/step - loss: 0.6903 - accuracy: 0.5926\n",
      "Epoch 8/100\n",
      "9/9 [==============================] - 0s 961us/step - loss: 0.6899 - accuracy: 0.5926\n",
      "Epoch 9/100\n",
      "9/9 [==============================] - 0s 1ms/step - loss: 0.6893 - accuracy: 0.5926\n",
      "Epoch 10/100\n",
      "9/9 [==============================] - 0s 942us/step - loss: 0.6879 - accuracy: 0.5926\n",
      "Epoch 11/100\n",
      "9/9 [==============================] - 0s 886us/step - loss: 0.6859 - accuracy: 0.5926\n",
      "Epoch 12/100\n",
      "9/9 [==============================] - 0s 780us/step - loss: 0.6825 - accuracy: 0.5926\n",
      "Epoch 13/100\n",
      "9/9 [==============================] - 0s 839us/step - loss: 0.6758 - accuracy: 0.5926\n",
      "Epoch 14/100\n",
      "9/9 [==============================] - 0s 854us/step - loss: 0.6644 - accuracy: 0.5926\n",
      "Epoch 15/100\n",
      "9/9 [==============================] - 0s 819us/step - loss: 0.6446 - accuracy: 0.5926\n",
      "Epoch 16/100\n",
      "9/9 [==============================] - 0s 829us/step - loss: 0.6182 - accuracy: 0.5926\n",
      "Epoch 17/100\n",
      "9/9 [==============================] - 0s 824us/step - loss: 0.5897 - accuracy: 0.5926\n",
      "Epoch 18/100\n",
      "9/9 [==============================] - 0s 867us/step - loss: 0.5586 - accuracy: 0.5926\n",
      "Epoch 19/100\n",
      "9/9 [==============================] - 0s 796us/step - loss: 0.5342 - accuracy: 0.5926\n",
      "Epoch 20/100\n",
      "9/9 [==============================] - 0s 777us/step - loss: 0.5039 - accuracy: 0.5926\n",
      "Epoch 21/100\n",
      "9/9 [==============================] - 0s 821us/step - loss: 0.4752 - accuracy: 0.5926\n",
      "Epoch 22/100\n",
      "9/9 [==============================] - 0s 785us/step - loss: 0.4558 - accuracy: 0.5926\n",
      "Epoch 23/100\n",
      "9/9 [==============================] - 0s 743us/step - loss: 0.4398 - accuracy: 0.5926\n",
      "Epoch 24/100\n",
      "9/9 [==============================] - 0s 774us/step - loss: 0.4239 - accuracy: 0.5926\n",
      "Epoch 25/100\n",
      "9/9 [==============================] - 0s 765us/step - loss: 0.4088 - accuracy: 0.5926\n",
      "Epoch 26/100\n",
      "9/9 [==============================] - 0s 733us/step - loss: 0.3941 - accuracy: 0.5926\n",
      "Epoch 27/100\n",
      "9/9 [==============================] - 0s 848us/step - loss: 0.3797 - accuracy: 0.5926\n",
      "Epoch 28/100\n",
      "9/9 [==============================] - 0s 671us/step - loss: 0.3669 - accuracy: 0.7037\n",
      "Epoch 29/100\n",
      "9/9 [==============================] - 0s 816us/step - loss: 0.3576 - accuracy: 0.9383\n",
      "Epoch 30/100\n",
      "9/9 [==============================] - 0s 826us/step - loss: 0.3489 - accuracy: 0.9383\n",
      "Epoch 31/100\n",
      "9/9 [==============================] - 0s 688us/step - loss: 0.3404 - accuracy: 0.9383\n",
      "Epoch 32/100\n",
      "9/9 [==============================] - 0s 792us/step - loss: 0.3308 - accuracy: 0.9506\n",
      "Epoch 33/100\n",
      "9/9 [==============================] - 0s 646us/step - loss: 0.3230 - accuracy: 0.9506\n",
      "Epoch 34/100\n",
      "9/9 [==============================] - 0s 787us/step - loss: 0.3164 - accuracy: 0.9630\n",
      "Epoch 35/100\n",
      "9/9 [==============================] - 0s 731us/step - loss: 0.3098 - accuracy: 0.9630\n",
      "Epoch 36/100\n",
      "9/9 [==============================] - 0s 718us/step - loss: 0.3040 - accuracy: 0.9630\n",
      "Epoch 37/100\n",
      "9/9 [==============================] - 0s 740us/step - loss: 0.2984 - accuracy: 0.9630\n",
      "Epoch 38/100\n",
      "9/9 [==============================] - 0s 719us/step - loss: 0.2932 - accuracy: 0.9753\n",
      "Epoch 39/100\n",
      "9/9 [==============================] - 0s 811us/step - loss: 0.2888 - accuracy: 0.9753\n",
      "Epoch 40/100\n",
      "9/9 [==============================] - 0s 733us/step - loss: 0.2846 - accuracy: 0.9753\n",
      "Epoch 41/100\n",
      "9/9 [==============================] - 0s 738us/step - loss: 0.2809 - accuracy: 0.9753\n",
      "Epoch 42/100\n",
      "9/9 [==============================] - 0s 924us/step - loss: 0.2768 - accuracy: 0.9753\n",
      "Epoch 43/100\n",
      "9/9 [==============================] - 0s 832us/step - loss: 0.2731 - accuracy: 0.9877\n",
      "Epoch 44/100\n",
      "9/9 [==============================] - 0s 892us/step - loss: 0.2699 - accuracy: 0.9877\n",
      "Epoch 45/100\n",
      "9/9 [==============================] - 0s 706us/step - loss: 0.2669 - accuracy: 0.9877\n",
      "Epoch 46/100\n",
      "9/9 [==============================] - 0s 829us/step - loss: 0.2641 - accuracy: 0.9877\n",
      "Epoch 47/100\n",
      "9/9 [==============================] - 0s 899us/step - loss: 0.2618 - accuracy: 0.9877\n",
      "Epoch 48/100\n",
      "9/9 [==============================] - 0s 854us/step - loss: 0.2590 - accuracy: 1.0000\n",
      "Epoch 49/100\n",
      "9/9 [==============================] - 0s 955us/step - loss: 0.2566 - accuracy: 1.0000\n",
      "Epoch 50/100\n",
      "9/9 [==============================] - 0s 953us/step - loss: 0.2545 - accuracy: 1.0000\n",
      "Epoch 51/100\n",
      "9/9 [==============================] - 0s 897us/step - loss: 0.2525 - accuracy: 1.0000\n",
      "Epoch 52/100\n",
      "9/9 [==============================] - 0s 969us/step - loss: 0.2506 - accuracy: 1.0000\n",
      "Epoch 53/100\n",
      "9/9 [==============================] - 0s 909us/step - loss: 0.2489 - accuracy: 1.0000\n",
      "Epoch 54/100\n",
      "9/9 [==============================] - 0s 811us/step - loss: 0.2474 - accuracy: 1.0000\n",
      "Epoch 55/100\n",
      "9/9 [==============================] - 0s 792us/step - loss: 0.2459 - accuracy: 1.0000\n",
      "Epoch 56/100\n",
      "9/9 [==============================] - 0s 924us/step - loss: 0.2443 - accuracy: 1.0000\n",
      "Epoch 57/100\n",
      "9/9 [==============================] - 0s 829us/step - loss: 0.2426 - accuracy: 1.0000\n",
      "Epoch 58/100\n",
      "9/9 [==============================] - 0s 844us/step - loss: 0.2411 - accuracy: 1.0000\n",
      "Epoch 59/100\n",
      "9/9 [==============================] - 0s 1ms/step - loss: 0.2398 - accuracy: 1.0000\n",
      "Epoch 60/100\n",
      "9/9 [==============================] - 0s 830us/step - loss: 0.2384 - accuracy: 1.0000\n",
      "Epoch 61/100\n",
      "9/9 [==============================] - 0s 893us/step - loss: 0.2370 - accuracy: 1.0000\n",
      "Epoch 62/100\n",
      "9/9 [==============================] - 0s 804us/step - loss: 0.2355 - accuracy: 1.0000\n",
      "Epoch 63/100\n",
      "9/9 [==============================] - 0s 875us/step - loss: 0.2343 - accuracy: 1.0000\n",
      "Epoch 64/100\n",
      "9/9 [==============================] - 0s 858us/step - loss: 0.2328 - accuracy: 1.0000\n",
      "Epoch 65/100\n",
      "9/9 [==============================] - 0s 748us/step - loss: 0.2315 - accuracy: 1.0000\n",
      "Epoch 66/100\n",
      "9/9 [==============================] - 0s 960us/step - loss: 0.2302 - accuracy: 1.0000\n",
      "Epoch 67/100\n",
      "9/9 [==============================] - 0s 809us/step - loss: 0.2288 - accuracy: 1.0000\n",
      "Epoch 68/100\n",
      "9/9 [==============================] - 0s 930us/step - loss: 0.2275 - accuracy: 1.0000\n",
      "Epoch 69/100\n",
      "9/9 [==============================] - 0s 711us/step - loss: 0.2262 - accuracy: 1.0000\n",
      "Epoch 70/100\n",
      "9/9 [==============================] - 0s 722us/step - loss: 0.2248 - accuracy: 1.0000\n",
      "Epoch 71/100\n",
      "9/9 [==============================] - 0s 726us/step - loss: 0.2235 - accuracy: 1.0000\n",
      "Epoch 72/100\n",
      "9/9 [==============================] - 0s 700us/step - loss: 0.2222 - accuracy: 1.0000\n",
      "Epoch 73/100\n",
      "9/9 [==============================] - 0s 738us/step - loss: 0.2209 - accuracy: 1.0000\n",
      "Epoch 74/100\n",
      "9/9 [==============================] - 0s 708us/step - loss: 0.2196 - accuracy: 1.0000\n",
      "Epoch 75/100\n",
      "9/9 [==============================] - 0s 687us/step - loss: 0.2183 - accuracy: 1.0000\n",
      "Epoch 76/100\n",
      "9/9 [==============================] - 0s 793us/step - loss: 0.2170 - accuracy: 1.0000\n",
      "Epoch 77/100\n",
      "9/9 [==============================] - 0s 721us/step - loss: 0.2156 - accuracy: 1.0000\n",
      "Epoch 78/100\n",
      "9/9 [==============================] - 0s 756us/step - loss: 0.2144 - accuracy: 1.0000\n",
      "Epoch 79/100\n",
      "9/9 [==============================] - 0s 727us/step - loss: 0.2130 - accuracy: 1.0000\n",
      "Epoch 80/100\n",
      "9/9 [==============================] - 0s 747us/step - loss: 0.2117 - accuracy: 1.0000\n",
      "Epoch 81/100\n",
      "9/9 [==============================] - 0s 687us/step - loss: 0.2105 - accuracy: 1.0000\n",
      "Epoch 82/100\n",
      "9/9 [==============================] - 0s 771us/step - loss: 0.2093 - accuracy: 1.0000\n",
      "Epoch 83/100\n",
      "9/9 [==============================] - 0s 691us/step - loss: 0.2083 - accuracy: 1.0000\n",
      "Epoch 84/100\n",
      "9/9 [==============================] - 0s 773us/step - loss: 0.2072 - accuracy: 1.0000\n",
      "Epoch 85/100\n",
      "9/9 [==============================] - 0s 663us/step - loss: 0.2061 - accuracy: 1.0000\n",
      "Epoch 86/100\n",
      "9/9 [==============================] - 0s 725us/step - loss: 0.2050 - accuracy: 1.0000\n",
      "Epoch 87/100\n",
      "9/9 [==============================] - 0s 670us/step - loss: 0.2039 - accuracy: 1.0000\n",
      "Epoch 88/100\n",
      "9/9 [==============================] - 0s 695us/step - loss: 0.2028 - accuracy: 1.0000\n",
      "Epoch 89/100\n",
      "9/9 [==============================] - 0s 734us/step - loss: 0.2018 - accuracy: 1.0000\n",
      "Epoch 90/100\n",
      "9/9 [==============================] - 0s 697us/step - loss: 0.2007 - accuracy: 1.0000\n",
      "Epoch 91/100\n",
      "9/9 [==============================] - 0s 737us/step - loss: 0.1995 - accuracy: 1.0000\n",
      "Epoch 92/100\n",
      "9/9 [==============================] - 0s 662us/step - loss: 0.1985 - accuracy: 1.0000\n",
      "Epoch 93/100\n",
      "9/9 [==============================] - 0s 772us/step - loss: 0.1973 - accuracy: 1.0000\n",
      "Epoch 94/100\n",
      "9/9 [==============================] - 0s 796us/step - loss: 0.1963 - accuracy: 1.0000\n",
      "Epoch 95/100\n",
      "9/9 [==============================] - 0s 733us/step - loss: 0.1952 - accuracy: 1.0000\n",
      "Epoch 96/100\n",
      "9/9 [==============================] - 0s 885us/step - loss: 0.1942 - accuracy: 1.0000\n",
      "Epoch 97/100\n",
      "9/9 [==============================] - 0s 841us/step - loss: 0.1932 - accuracy: 1.0000\n",
      "Epoch 98/100\n",
      "9/9 [==============================] - 0s 876us/step - loss: 0.1922 - accuracy: 1.0000\n",
      "Epoch 99/100\n",
      "9/9 [==============================] - 0s 905us/step - loss: 0.1910 - accuracy: 1.0000\n",
      "Epoch 100/100\n",
      "9/9 [==============================] - 0s 743us/step - loss: 0.1900 - accuracy: 1.0000\n"
     ]
    },
    {
     "data": {
      "text/plain": [
       "<keras.callbacks.History at 0x288dd7d90>"
      ]
     },
     "execution_count": 122,
     "metadata": {},
     "output_type": "execute_result"
    }
   ],
   "source": [
    "classifier.fit(X_train,y_train,batch_size=10,epochs=100)"
   ]
  },
  {
   "cell_type": "code",
   "execution_count": 123,
   "metadata": {},
   "outputs": [
    {
     "name": "stdout",
     "output_type": "stream",
     "text": [
      "252/252 [==============================] - 0s 412us/step\n"
     ]
    }
   ],
   "source": [
    "y_pred = classifier.predict(X_test)\n",
    "y_pred = y_pred > 0.5"
   ]
  },
  {
   "cell_type": "code",
   "execution_count": 124,
   "metadata": {},
   "outputs": [
    {
     "name": "stdout",
     "output_type": "stream",
     "text": [
      "-----------------------\n",
      "\n",
      "[[4127   33]\n",
      " [ 452 3431]]\n"
     ]
    }
   ],
   "source": [
    "# Creates a confusion matrix\n",
    "cm = confusion_matrix(y_test, y_pred)\n",
    "print(\"-----------------------\\n\")\n",
    "print(cm)"
   ]
  },
  {
   "cell_type": "code",
   "execution_count": 125,
   "metadata": {},
   "outputs": [
    {
     "data": {
      "image/png": "[encoded data removed]",
      "text/plain": [
       "<Figure size 1000x1000 with 2 Axes>"
      ]
     },
     "metadata": {},
     "output_type": "display_data"
    }
   ],
   "source": [
    "# Transform to df for easier plotting\n",
    "cm_df = pd.DataFrame(cm, index=[\"e\", \"p\"], columns=[\"e\", \"p\"])\n",
    "\n",
    "f, ax = plt.subplots(figsize=(10, 10))\n",
    "sns.heatmap(cm_df, annot=True, linewidths=0.5, linecolor=\"red\", fmt=\".0f\", ax=ax)\n",
    "plt.title(f\"ANN\\nAccuracy: {accuracy_score(y_test, y_pred):.5f}\")\n",
    "plt.ylabel(\"True label\")\n",
    "plt.xlabel(\"Predicted label\")\n",
    "plt.show()"
   ]
  },
  {
   "cell_type": "code",
   "execution_count": 126,
   "metadata": {},
   "outputs": [
    {
     "name": "stdout",
     "output_type": "stream",
     "text": [
      "              precision    recall  f1-score   support\n",
      "\n",
      "           0       0.90      0.99      0.94      4160\n",
      "           1       0.99      0.88      0.93      3883\n",
      "\n",
      "    accuracy                           0.94      8043\n",
      "   macro avg       0.95      0.94      0.94      8043\n",
      "weighted avg       0.94      0.94      0.94      8043\n",
      "\n",
      "F1 Score: 0.9339866612222676\n"
     ]
    }
   ],
   "source": [
    "print(classification_report(y_test, y_pred))\n",
    "\n",
    "# Calculate the F1 score and store it in a different variable\n",
    "f1 = f1_score(y_test, y_pred)\n",
    "\n",
    "# Print the F1 score\n",
    "print(\"F1 Score:\", f1)"
   ]
  }
 ],
 "metadata": {
  "kernelspec": {
   "display_name": "base",
   "language": "python",
   "name": "python3"
  },
  "language_info": {
   "codemirror_mode": {
    "name": "ipython",
    "version": 3
   },
   "file_extension": ".py",
   "mimetype": "text/x-python",
   "name": "python",
   "nbconvert_exporter": "python",
   "pygments_lexer": "ipython3",
   "version": "3.10.10"
  },
  "orig_nbformat": 4
 },
 "nbformat": 4,
 "nbformat_minor": 2
}
