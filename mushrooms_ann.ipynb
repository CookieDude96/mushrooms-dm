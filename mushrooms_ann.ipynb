{
 "cells": [
  {
   "cell_type": "code",
   "execution_count": 12,
   "metadata": {},
   "outputs": [],
   "source": [
    "import pandas as pd\n",
    "import numpy as np\n",
    "import matplotlib.pyplot as plt\n",
    "import seaborn as sns\n",
    "\n",
    "from sklearn.preprocessing import LabelEncoder\n",
    "from sklearn.model_selection import train_test_split\n",
    "from sklearn.metrics import confusion_matrix\n",
    "from sklearn.metrics import classification_report\n",
    "from sklearn.metrics import f1_score\n",
    "from sklearn.metrics import accuracy_score"
   ]
  },
  {
   "cell_type": "code",
   "execution_count": 13,
   "metadata": {},
   "outputs": [
    {
     "name": "stdout",
     "output_type": "stream",
     "text": [
      "  class cap-shape cap-surface cap-color bruises odor gill-attachment  \\\n",
      "0     p         x           s         n       t    p               f   \n",
      "1     e         x           s         y       t    a               f   \n",
      "2     e         b           s         w       t    l               f   \n",
      "3     p         x           y         w       t    p               f   \n",
      "4     e         x           s         g       f    n               f   \n",
      "\n",
      "  gill-spacing gill-size gill-color  ... stalk-surface-below-ring  \\\n",
      "0            c         n          k  ...                        s   \n",
      "1            c         b          k  ...                        s   \n",
      "2            c         b          n  ...                        s   \n",
      "3            c         n          n  ...                        s   \n",
      "4            w         b          k  ...                        s   \n",
      "\n",
      "  stalk-color-above-ring stalk-color-below-ring veil-type veil-color  \\\n",
      "0                      w                      w         p          w   \n",
      "1                      w                      w         p          w   \n",
      "2                      w                      w         p          w   \n",
      "3                      w                      w         p          w   \n",
      "4                      w                      w         p          w   \n",
      "\n",
      "  ring-number ring-type spore-print-color population habitat  \n",
      "0           o         p                 k          s       u  \n",
      "1           o         p                 n          n       g  \n",
      "2           o         p                 n          n       m  \n",
      "3           o         p                 k          s       u  \n",
      "4           o         e                 n          a       g  \n",
      "\n",
      "[5 rows x 23 columns]\n"
     ]
    }
   ],
   "source": [
    "# To import the dataset:\n",
    "file_path = \"mushrooms.csv\"\n",
    "\n",
    "# Read the CSV file into a DataFrame\n",
    "df = pd.read_csv(file_path)\n",
    "\n",
    "# Display the first few rows of the DataFrame\n",
    "print(df.head())"
   ]
  },
  {
   "cell_type": "code",
   "execution_count": 14,
   "metadata": {},
   "outputs": [],
   "source": [
    "# Preparing data for training and test\n",
    "# Target is 'class' column.\n",
    "X = df.drop([\"class\",'veil-type'], axis=1)\n",
    "y = df[\"class\"]\n",
    "\n",
    "X = pd.get_dummies(X)\n",
    "X.head()\n",
    "\n",
    "# Encode the target labels ('e' for edible and 'p' for poisonous)\n",
    "y = LabelEncoder().fit_transform(y)"
   ]
  },
  {
   "cell_type": "code",
   "execution_count": 15,
   "metadata": {},
   "outputs": [
    {
     "name": "stdout",
     "output_type": "stream",
     "text": [
      "\n",
      "\n",
      "train and test sample size (81, 116) (8043, 116)\n"
     ]
    }
   ],
   "source": [
    "# Split data into separate training and test set\n",
    "X_train, X_test, y_train, y_test = train_test_split(\n",
    "    X, y, test_size=0.99, random_state=42\n",
    ")\n",
    "\n",
    "# Check the shape of X train and X test\n",
    "print(\"\\n\")\n",
    "print(\"train and test sample size\", X_train.shape, X_test.shape)"
   ]
  },
  {
   "cell_type": "code",
   "execution_count": 16,
   "metadata": {},
   "outputs": [],
   "source": [
    "# Artificial Neural Networks (ANN)\n",
    "import keras\n",
    "from keras.models import Sequential\n",
    "from keras.layers import Dense\n",
    "\n",
    "classifier = Sequential()"
   ]
  },
  {
   "cell_type": "code",
   "execution_count": 17,
   "metadata": {},
   "outputs": [],
   "source": [
    "classifier.add(\n",
    "    Dense(\n",
    "        8, kernel_initializer=\"uniform\", activation=\"relu\", input_dim=X_train.shape[1]\n",
    "    )\n",
    ")\n",
    "classifier.add(Dense(6, kernel_initializer=\"uniform\", activation=\"relu\"))\n",
    "classifier.add(Dense(5, kernel_initializer=\"uniform\", activation=\"relu\"))\n",
    "classifier.add(Dense(4, kernel_initializer=\"uniform\", activation=\"relu\"))\n",
    "classifier.add(Dense(1, kernel_initializer=\"uniform\", activation=\"sigmoid\"))\n",
    "\n",
    "classifier.compile(optimizer=\"adam\", loss=\"binary_crossentropy\", metrics=[\"accuracy\"])"
   ]
  },
  {
   "cell_type": "code",
   "execution_count": 18,
   "metadata": {},
   "outputs": [
    {
     "name": "stdout",
     "output_type": "stream",
     "text": [
      "Epoch 1/100\n",
      "9/9 [==============================] - 0s 880us/step - loss: 0.6931 - accuracy: 0.4198\n",
      "Epoch 2/100\n",
      "9/9 [==============================] - 0s 843us/step - loss: 0.6926 - accuracy: 0.5926\n",
      "Epoch 3/100\n",
      "9/9 [==============================] - 0s 777us/step - loss: 0.6924 - accuracy: 0.5926\n",
      "Epoch 4/100\n",
      "9/9 [==============================] - 0s 804us/step - loss: 0.6921 - accuracy: 0.5926\n",
      "Epoch 5/100\n",
      "9/9 [==============================] - 0s 811us/step - loss: 0.6917 - accuracy: 0.5926\n",
      "Epoch 6/100\n",
      "9/9 [==============================] - 0s 883us/step - loss: 0.6914 - accuracy: 0.5926\n",
      "Epoch 7/100\n",
      "9/9 [==============================] - 0s 853us/step - loss: 0.6910 - accuracy: 0.5926\n",
      "Epoch 8/100\n",
      "9/9 [==============================] - 0s 796us/step - loss: 0.6906 - accuracy: 0.5926\n",
      "Epoch 9/100\n",
      "9/9 [==============================] - 0s 786us/step - loss: 0.6901 - accuracy: 0.5926\n",
      "Epoch 10/100\n",
      "9/9 [==============================] - 0s 718us/step - loss: 0.6897 - accuracy: 0.5926\n",
      "Epoch 11/100\n",
      "9/9 [==============================] - 0s 722us/step - loss: 0.6884 - accuracy: 0.5926\n",
      "Epoch 12/100\n",
      "9/9 [==============================] - 0s 676us/step - loss: 0.6866 - accuracy: 0.5926\n",
      "Epoch 13/100\n",
      "9/9 [==============================] - 0s 792us/step - loss: 0.6832 - accuracy: 0.5926\n",
      "Epoch 14/100\n",
      "9/9 [==============================] - 0s 747us/step - loss: 0.6774 - accuracy: 0.5926\n",
      "Epoch 15/100\n",
      "9/9 [==============================] - 0s 807us/step - loss: 0.6673 - accuracy: 0.5926\n",
      "Epoch 16/100\n",
      "9/9 [==============================] - 0s 706us/step - loss: 0.6507 - accuracy: 0.5926\n",
      "Epoch 17/100\n",
      "9/9 [==============================] - 0s 751us/step - loss: 0.6262 - accuracy: 0.5926\n",
      "Epoch 18/100\n",
      "9/9 [==============================] - 0s 706us/step - loss: 0.5950 - accuracy: 0.5926\n",
      "Epoch 19/100\n",
      "9/9 [==============================] - 0s 671us/step - loss: 0.5582 - accuracy: 0.5926\n",
      "Epoch 20/100\n",
      "9/9 [==============================] - 0s 701us/step - loss: 0.5184 - accuracy: 0.5926\n",
      "Epoch 21/100\n",
      "9/9 [==============================] - 0s 692us/step - loss: 0.4835 - accuracy: 0.5926\n",
      "Epoch 22/100\n",
      "9/9 [==============================] - 0s 643us/step - loss: 0.4558 - accuracy: 0.5926\n",
      "Epoch 23/100\n",
      "9/9 [==============================] - 0s 742us/step - loss: 0.4358 - accuracy: 0.5926\n",
      "Epoch 24/100\n",
      "9/9 [==============================] - 0s 685us/step - loss: 0.4208 - accuracy: 0.5926\n",
      "Epoch 25/100\n",
      "9/9 [==============================] - 0s 741us/step - loss: 0.4026 - accuracy: 0.5926\n",
      "Epoch 26/100\n",
      "9/9 [==============================] - 0s 694us/step - loss: 0.3845 - accuracy: 0.5926\n",
      "Epoch 27/100\n",
      "9/9 [==============================] - 0s 719us/step - loss: 0.3718 - accuracy: 0.5926\n",
      "Epoch 28/100\n",
      "9/9 [==============================] - 0s 703us/step - loss: 0.3585 - accuracy: 0.5926\n",
      "Epoch 29/100\n",
      "9/9 [==============================] - 0s 721us/step - loss: 0.3486 - accuracy: 0.5926\n",
      "Epoch 30/100\n",
      "9/9 [==============================] - 0s 731us/step - loss: 0.3401 - accuracy: 0.8025\n",
      "Epoch 31/100\n",
      "9/9 [==============================] - 0s 685us/step - loss: 0.3308 - accuracy: 0.9506\n",
      "Epoch 32/100\n",
      "9/9 [==============================] - 0s 700us/step - loss: 0.3223 - accuracy: 0.9506\n",
      "Epoch 33/100\n",
      "9/9 [==============================] - 0s 707us/step - loss: 0.3154 - accuracy: 0.9753\n",
      "Epoch 34/100\n",
      "9/9 [==============================] - 0s 691us/step - loss: 0.3093 - accuracy: 0.9753\n",
      "Epoch 35/100\n",
      "9/9 [==============================] - 0s 705us/step - loss: 0.3042 - accuracy: 0.9753\n",
      "Epoch 36/100\n",
      "9/9 [==============================] - 0s 624us/step - loss: 0.2988 - accuracy: 0.9753\n",
      "Epoch 37/100\n",
      "9/9 [==============================] - 0s 737us/step - loss: 0.2957 - accuracy: 0.9877\n",
      "Epoch 38/100\n",
      "9/9 [==============================] - 0s 703us/step - loss: 0.2904 - accuracy: 0.9877\n",
      "Epoch 39/100\n",
      "9/9 [==============================] - 0s 724us/step - loss: 0.2868 - accuracy: 0.9877\n",
      "Epoch 40/100\n",
      "9/9 [==============================] - 0s 684us/step - loss: 0.2829 - accuracy: 0.9877\n",
      "Epoch 41/100\n",
      "9/9 [==============================] - 0s 725us/step - loss: 0.2797 - accuracy: 0.9877\n",
      "Epoch 42/100\n",
      "9/9 [==============================] - 0s 761us/step - loss: 0.2763 - accuracy: 0.9877\n",
      "Epoch 43/100\n",
      "9/9 [==============================] - 0s 735us/step - loss: 0.2731 - accuracy: 0.9877\n",
      "Epoch 44/100\n",
      "9/9 [==============================] - 0s 692us/step - loss: 0.2704 - accuracy: 0.9877\n",
      "Epoch 45/100\n",
      "9/9 [==============================] - 0s 733us/step - loss: 0.2676 - accuracy: 0.9877\n",
      "Epoch 46/100\n",
      "9/9 [==============================] - 0s 716us/step - loss: 0.2644 - accuracy: 1.0000\n",
      "Epoch 47/100\n",
      "9/9 [==============================] - 0s 649us/step - loss: 0.2622 - accuracy: 1.0000\n",
      "Epoch 48/100\n",
      "9/9 [==============================] - 0s 642us/step - loss: 0.2604 - accuracy: 1.0000\n",
      "Epoch 49/100\n",
      "9/9 [==============================] - 0s 692us/step - loss: 0.2583 - accuracy: 1.0000\n",
      "Epoch 50/100\n",
      "9/9 [==============================] - 0s 695us/step - loss: 0.2562 - accuracy: 1.0000\n",
      "Epoch 51/100\n",
      "9/9 [==============================] - 0s 619us/step - loss: 0.2544 - accuracy: 1.0000\n",
      "Epoch 52/100\n",
      "9/9 [==============================] - 0s 687us/step - loss: 0.2527 - accuracy: 1.0000\n",
      "Epoch 53/100\n",
      "9/9 [==============================] - 0s 709us/step - loss: 0.2512 - accuracy: 1.0000\n",
      "Epoch 54/100\n",
      "9/9 [==============================] - 0s 746us/step - loss: 0.2497 - accuracy: 1.0000\n",
      "Epoch 55/100\n",
      "9/9 [==============================] - 0s 794us/step - loss: 0.2483 - accuracy: 1.0000\n",
      "Epoch 56/100\n",
      "9/9 [==============================] - 0s 788us/step - loss: 0.2468 - accuracy: 1.0000\n",
      "Epoch 57/100\n",
      "9/9 [==============================] - 0s 671us/step - loss: 0.2453 - accuracy: 1.0000\n",
      "Epoch 58/100\n",
      "9/9 [==============================] - 0s 732us/step - loss: 0.2439 - accuracy: 1.0000\n",
      "Epoch 59/100\n",
      "9/9 [==============================] - 0s 671us/step - loss: 0.2424 - accuracy: 1.0000\n",
      "Epoch 60/100\n",
      "9/9 [==============================] - 0s 727us/step - loss: 0.2410 - accuracy: 1.0000\n",
      "Epoch 61/100\n",
      "9/9 [==============================] - 0s 742us/step - loss: 0.2395 - accuracy: 1.0000\n",
      "Epoch 62/100\n",
      "9/9 [==============================] - 0s 788us/step - loss: 0.2384 - accuracy: 1.0000\n",
      "Epoch 63/100\n",
      "9/9 [==============================] - 0s 856us/step - loss: 0.2370 - accuracy: 1.0000\n",
      "Epoch 64/100\n",
      "9/9 [==============================] - 0s 776us/step - loss: 0.2356 - accuracy: 1.0000\n",
      "Epoch 65/100\n",
      "9/9 [==============================] - 0s 781us/step - loss: 0.2342 - accuracy: 1.0000\n",
      "Epoch 66/100\n",
      "9/9 [==============================] - 0s 782us/step - loss: 0.2326 - accuracy: 1.0000\n",
      "Epoch 67/100\n",
      "9/9 [==============================] - 0s 753us/step - loss: 0.2311 - accuracy: 1.0000\n",
      "Epoch 68/100\n",
      "9/9 [==============================] - 0s 801us/step - loss: 0.2296 - accuracy: 1.0000\n",
      "Epoch 69/100\n",
      "9/9 [==============================] - 0s 743us/step - loss: 0.2284 - accuracy: 1.0000\n",
      "Epoch 70/100\n",
      "9/9 [==============================] - 0s 806us/step - loss: 0.2272 - accuracy: 1.0000\n",
      "Epoch 71/100\n",
      "9/9 [==============================] - 0s 770us/step - loss: 0.2260 - accuracy: 1.0000\n",
      "Epoch 72/100\n",
      "9/9 [==============================] - 0s 766us/step - loss: 0.2250 - accuracy: 1.0000\n",
      "Epoch 73/100\n",
      "9/9 [==============================] - 0s 683us/step - loss: 0.2236 - accuracy: 1.0000\n",
      "Epoch 74/100\n",
      "9/9 [==============================] - 0s 812us/step - loss: 0.2224 - accuracy: 1.0000\n",
      "Epoch 75/100\n",
      "9/9 [==============================] - 0s 706us/step - loss: 0.2211 - accuracy: 1.0000\n",
      "Epoch 76/100\n",
      "9/9 [==============================] - 0s 743us/step - loss: 0.2200 - accuracy: 1.0000\n",
      "Epoch 77/100\n",
      "9/9 [==============================] - 0s 767us/step - loss: 0.2186 - accuracy: 1.0000\n",
      "Epoch 78/100\n",
      "9/9 [==============================] - 0s 805us/step - loss: 0.2174 - accuracy: 1.0000\n",
      "Epoch 79/100\n",
      "9/9 [==============================] - 0s 786us/step - loss: 0.2163 - accuracy: 1.0000\n",
      "Epoch 80/100\n",
      "9/9 [==============================] - 0s 689us/step - loss: 0.2151 - accuracy: 1.0000\n",
      "Epoch 81/100\n",
      "9/9 [==============================] - 0s 811us/step - loss: 0.2141 - accuracy: 1.0000\n",
      "Epoch 82/100\n",
      "9/9 [==============================] - 0s 724us/step - loss: 0.2129 - accuracy: 1.0000\n",
      "Epoch 83/100\n",
      "9/9 [==============================] - 0s 734us/step - loss: 0.2118 - accuracy: 1.0000\n",
      "Epoch 84/100\n",
      "9/9 [==============================] - 0s 736us/step - loss: 0.2105 - accuracy: 1.0000\n",
      "Epoch 85/100\n",
      "9/9 [==============================] - 0s 828us/step - loss: 0.2093 - accuracy: 1.0000\n",
      "Epoch 86/100\n",
      "9/9 [==============================] - 0s 855us/step - loss: 0.2080 - accuracy: 1.0000\n",
      "Epoch 87/100\n",
      "9/9 [==============================] - 0s 856us/step - loss: 0.2068 - accuracy: 1.0000\n",
      "Epoch 88/100\n",
      "9/9 [==============================] - 0s 817us/step - loss: 0.2055 - accuracy: 1.0000\n",
      "Epoch 89/100\n",
      "9/9 [==============================] - 0s 814us/step - loss: 0.2042 - accuracy: 1.0000\n",
      "Epoch 90/100\n",
      "9/9 [==============================] - 0s 827us/step - loss: 0.2030 - accuracy: 1.0000\n",
      "Epoch 91/100\n",
      "9/9 [==============================] - 0s 721us/step - loss: 0.2019 - accuracy: 1.0000\n",
      "Epoch 92/100\n",
      "9/9 [==============================] - 0s 816us/step - loss: 0.2007 - accuracy: 1.0000\n",
      "Epoch 93/100\n",
      "9/9 [==============================] - 0s 778us/step - loss: 0.1995 - accuracy: 1.0000\n",
      "Epoch 94/100\n",
      "9/9 [==============================] - 0s 825us/step - loss: 0.1984 - accuracy: 1.0000\n",
      "Epoch 95/100\n",
      "9/9 [==============================] - 0s 757us/step - loss: 0.1973 - accuracy: 1.0000\n",
      "Epoch 96/100\n",
      "9/9 [==============================] - 0s 696us/step - loss: 0.1962 - accuracy: 1.0000\n",
      "Epoch 97/100\n",
      "9/9 [==============================] - 0s 828us/step - loss: 0.1951 - accuracy: 1.0000\n",
      "Epoch 98/100\n",
      "9/9 [==============================] - 0s 863us/step - loss: 0.1939 - accuracy: 1.0000\n",
      "Epoch 99/100\n",
      "9/9 [==============================] - 0s 819us/step - loss: 0.1927 - accuracy: 1.0000\n",
      "Epoch 100/100\n",
      "9/9 [==============================] - 0s 769us/step - loss: 0.1917 - accuracy: 1.0000\n"
     ]
    },
    {
     "data": {
      "text/plain": [
       "<keras.callbacks.History at 0x2872b6170>"
      ]
     },
     "execution_count": 18,
     "metadata": {},
     "output_type": "execute_result"
    }
   ],
   "source": [
    "classifier.fit(X_train,y_train,batch_size=10,epochs=100)"
   ]
  },
  {
   "cell_type": "code",
   "execution_count": 19,
   "metadata": {},
   "outputs": [
    {
     "name": "stdout",
     "output_type": "stream",
     "text": [
      "252/252 [==============================] - 0s 353us/step\n"
     ]
    }
   ],
   "source": [
    "y_pred = classifier.predict(X_test)\n",
    "y_pred = y_pred > 0.5"
   ]
  },
  {
   "cell_type": "code",
   "execution_count": 20,
   "metadata": {},
   "outputs": [
    {
     "name": "stdout",
     "output_type": "stream",
     "text": [
      "-----------------------\n",
      "\n",
      "[[4115   45]\n",
      " [ 384 3499]]\n"
     ]
    }
   ],
   "source": [
    "# Creates a confusion matrix\n",
    "cm = confusion_matrix(y_test, y_pred)\n",
    "print(\"-----------------------\\n\")\n",
    "print(cm)"
   ]
  },
  {
   "cell_type": "code",
   "execution_count": 21,
   "metadata": {},
   "outputs": [
    {
     "data": {
      "image/png": "[encoded data removed]",
      "text/plain": [
       "<Figure size 1000x1000 with 2 Axes>"
      ]
     },
     "metadata": {},
     "output_type": "display_data"
    }
   ],
   "source": [
    "# Transform to df for easier plotting\n",
    "cm_df = pd.DataFrame(cm, index=[\"e\", \"p\"], columns=[\"e\", \"p\"])\n",
    "\n",
    "f, ax = plt.subplots(figsize=(10, 10))\n",
    "sns.heatmap(cm_df, annot=True, linewidths=0.5, linecolor=\"red\", fmt=\".0f\", ax=ax)\n",
    "plt.title(f\"ANN\\nAccuracy: {accuracy_score(y_test, y_pred):.5f}\")\n",
    "plt.ylabel(\"True label\")\n",
    "plt.xlabel(\"Predicted label\")\n",
    "plt.show()"
   ]
  },
  {
   "cell_type": "code",
   "execution_count": 22,
   "metadata": {},
   "outputs": [
    {
     "name": "stdout",
     "output_type": "stream",
     "text": [
      "              precision    recall  f1-score   support\n",
      "\n",
      "           0       0.91      0.99      0.95      4160\n",
      "           1       0.99      0.90      0.94      3883\n",
      "\n",
      "    accuracy                           0.95      8043\n",
      "   macro avg       0.95      0.95      0.95      8043\n",
      "weighted avg       0.95      0.95      0.95      8043\n",
      "\n",
      "F1 Score: 0.9422377810690723\n"
     ]
    }
   ],
   "source": [
    "print(classification_report(y_test, y_pred))\n",
    "\n",
    "# Calculate the F1 score and store it in a different variable\n",
    "f1 = f1_score(y_test, y_pred)\n",
    "\n",
    "# Print the F1 score\n",
    "print(\"F1 Score:\", f1)"
   ]
  }
 ],
 "metadata": {
  "kernelspec": {
   "display_name": "base",
   "language": "python",
   "name": "python3"
  },
  "language_info": {
   "codemirror_mode": {
    "name": "ipython",
    "version": 3
   },
   "file_extension": ".py",
   "mimetype": "text/x-python",
   "name": "python",
   "nbconvert_exporter": "python",
   "pygments_lexer": "ipython3",
   "version": "3.10.10"
  },
  "orig_nbformat": 4
 },
 "nbformat": 4,
 "nbformat_minor": 2
}
